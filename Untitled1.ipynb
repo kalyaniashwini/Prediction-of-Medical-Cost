{
 "cells": [
  {
   "cell_type": "code",
   "execution_count": null,
   "id": "3d5a90f6-d997-4f94-bdc2-11bdba20a045",
   "metadata": {},
   "outputs": [],
   "source": [
    "import warnings\n",
    "warnings.filterwarnings('ignore')\n",
    "import pandas as pd \n",
    "import numpy as np\n",
    "import matplotlib.pyplot as plt\n",
    "import seaborn as sns\n",
    "data=pd.read_csv('insurance.csv')\n",
    "data.head()\n",
    "data.info()\n",
    "data.shape\n",
    "data.columns\n",
    "from sklearn.preprocessing import LabelEncoder \n",
    "lab=LabelEncoder()\n",
    "data['sex']=lab.fit_transform(data['sex'])\n",
    "data['smoker']=lab.fit_transform(data['smoker'])\n",
    "data['region']=lab.fit_transform(data['region'])\n",
    "data.head()\n",
    "sns.countplot(x='smoker',data=data)\n",
    "sns.countplot(x='sex',data=data)\n",
    "x=data.iloc[:,data.columns!='charges']\n",
    "y=data.iloc[:,data.columns=='charges']\n",
    "#x.shape\n",
    "#x.head()\n",
    "x.head()\n",
    "\n",
    "from sklearn.model_selection import train_test_split\n",
    "from sklearn.metrics import accuracy_score,confusion_matrix,recall_score, roc_curve, auc\n",
    "xtrain,xtest,ytrain,ytest=train_test_split(x,y,test_size=0.3)\n",
    "xtrain.head()\n",
    "ytrain.head()\n",
    "from sklearn.ensemble import RandomForestRegressor\n",
    "regressor = RandomForestRegressor(n_estimators = 300, random_state = 0) #N-estimators means how many time predict the value like that \n",
    "regressor.fit(xtrain, ytrain)\n",
    "y_pred = regressor.predict(xtest)\n",
    "#y_pred\n",
    "from sklearn import metrics\n",
    "from sklearn.metrics import r2_score\n",
    "print(\"\\n\\nr2_score is \" , r2_score(y_pred,ytest))\n",
    "from sklearn.linear_model import LinearRegression\n",
    "alg = LinearRegression()\n",
    "alg.fit(xtrain, ytrain)\n",
    "y_predict = alg.predict(xtest)\n",
    "print(\"\\n\\nr2_score is \" , r2_score(y_predict,ytest))\n",
    "from sklearn import tree\n",
    "dt=tree.DecisionTreeRegressor()\n",
    "dt.fit(xtrain, ytrain)\n",
    "x_predicted=dt.predict(xtest)\n",
    "print(\"\\n\\nr2_score is \" , r2_score(x_predicted,ytest))\n",
    "from sklearn.svm import SVR\n",
    "regressor = SVR()\n",
    "regressor.fit(xtrain, ytrain)\n",
    "predicted=regressor.predict(xtest)\n",
    "print(\"\\n\\nr2_score is \" , r2_score(predicted,ytest))\n",
    "test_vector = np.reshape(np.asarray([19,0,27.900,0,1,3]),(1,6))\n",
    "p = int(regressor.predict(test_vector)[0])"
   ]
  }
 ],
 "metadata": {
  "kernelspec": {
   "display_name": "Python 3 (ipykernel)",
   "language": "python",
   "name": "python3"
  },
  "language_info": {
   "codemirror_mode": {
    "name": "ipython",
    "version": 3
   },
   "file_extension": ".py",
   "mimetype": "text/x-python",
   "name": "python",
   "nbconvert_exporter": "python",
   "pygments_lexer": "ipython3",
   "version": "3.12.0"
  }
 },
 "nbformat": 4,
 "nbformat_minor": 5
}
